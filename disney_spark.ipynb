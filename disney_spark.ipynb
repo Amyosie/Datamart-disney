{
 "cells": [
  {
   "cell_type": "markdown",
   "metadata": {},
   "source": [
    "# Disney+ Movies and TV Shows\n",
    "\n",
    "About this Dataset: Disney+ is another one of the most popular media and video streaming platforms. They have close to 1300 movies or tv shows available on their platform, as of mid-2021, they have over 116M Subscribers globally. This tabular dataset consists of listings of all the movies and tv shows available on Amazon Prime, along with details such as - cast, directors, ratings, release year, duration, etc."
   ]
  },
  {
   "cell_type": "code",
   "execution_count": 1,
   "metadata": {},
   "outputs": [],
   "source": [
    "import findspark"
   ]
  },
  {
   "cell_type": "code",
   "execution_count": 2,
   "metadata": {},
   "outputs": [
    {
     "name": "stdout",
     "output_type": "stream",
     "text": [
      "22/10/29 23:44:01 WARN Utils: Your hostname, Yosies-MacBook-Air.local resolves to a loopback address: 127.0.0.1; using 192.168.202.2 instead (on interface en0)\n",
      "22/10/29 23:44:01 WARN Utils: Set SPARK_LOCAL_IP if you need to bind to another address\n"
     ]
    },
    {
     "name": "stderr",
     "output_type": "stream",
     "text": [
      "Setting default log level to \"WARN\".\n",
      "To adjust logging level use sc.setLogLevel(newLevel). For SparkR, use setLogLevel(newLevel).\n"
     ]
    },
    {
     "name": "stdout",
     "output_type": "stream",
     "text": [
      "22/10/29 23:44:02 WARN NativeCodeLoader: Unable to load native-hadoop library for your platform... using builtin-java classes where applicable\n",
      "22/10/29 23:44:04 WARN Utils: Service 'SparkUI' could not bind on port 4040. Attempting port 4041.\n"
     ]
    },
    {
     "name": "stderr",
     "output_type": "stream",
     "text": [
      "                                                                                \r"
     ]
    },
    {
     "name": "stdout",
     "output_type": "stream",
     "text": [
      "22/10/29 23:44:30 WARN DAGScheduler: Broadcasting large task binary with size 1191.4 KiB\n"
     ]
    },
    {
     "name": "stderr",
     "output_type": "stream",
     "text": [
      "                                                                                \r"
     ]
    },
    {
     "name": "stdout",
     "output_type": "stream",
     "text": [
      "22/10/29 23:44:43 WARN DAGScheduler: Broadcasting large task binary with size 1001.2 KiB\n",
      "22/10/29 23:44:44 WARN DAGScheduler: Broadcasting large task binary with size 1001.2 KiB\n",
      "22/10/29 23:44:44 WARN DAGScheduler: Broadcasting large task binary with size 1001.2 KiB\n"
     ]
    },
    {
     "name": "stderr",
     "output_type": "stream",
     "text": [
      "                                                                                \r"
     ]
    },
    {
     "name": "stdout",
     "output_type": "stream",
     "text": [
      "+-------+-----+--------------------+-------------------+--------+------------------+------+\n",
      "|show_id| type|               title|           director| country|        date_added|rating|\n",
      "+-------+-----+--------------------+-------------------+--------+------------------+------+\n",
      "|    s58|Movie|          Thumbelina|          Don Bluth|   Spain|  October 22, 2021|     G|\n",
      "|   s318|Movie|           Ferdinand|    Carlos Saldanha|   Spain|   January 8, 2021|    PG|\n",
      "|   s399|Movie| Disneynature Oceans|     Jacques Perrin|   Spain|September 25, 2020|     G|\n",
      "|  s1443|Movie|        Tomorrowland|          Brad Bird|   Spain| September 3, 2021|    PG|\n",
      "|   s131|Movie|      Fantastic Four|          Tim Story| Germany|   August 13, 2021| PG-13|\n",
      "|   s228|Movie|Fantastic Four: R...|          Tim Story| Germany|       May 7, 2021|    PG|\n",
      "|   s314|Movie|        Isle of Dogs|       Wes Anderson| Germany|  January 15, 2021| PG-13|\n",
      "|   s629|Movie|Around the World ...|       Frank Coraci| Germany|  February 1, 2020|    PG|\n",
      "|   s799|Movie|Confessions of a ...|      Sara Sugarman| Germany| November 12, 2019|    PG|\n",
      "|   s811|Movie|           Deep Blue|Alastair Fothergill| Germany| November 12, 2019|     G|\n",
      "|  s1448|Movie|     Eddie the Eagle|    Dexter Fletcher| Germany| December 18, 2020| PG-13|\n",
      "|  s1449|Movie|Bend It Like Beckham|    Gurinder Chadha| Germany|September 18, 2020| PG-13|\n",
      "|    s58|Movie|          Thumbelina|          Don Bluth| Hungary|  October 22, 2021|     G|\n",
      "|   s129|Movie|              Eragon|   Stefen Fangmeier| Hungary|   August 20, 2021|    PG|\n",
      "|   s716|Movie|A Kid in King Art...|   Michael Gottlieb| Hungary| November 12, 2019|    PG|\n",
      "|  s1097|Movie|            Mulan II|     Darrell Rooney|    Iran| November 12, 2019|     G|\n",
      "|   s861|Movie|Disneynature Wing...| Louie Schwartzberg|  Panama| November 12, 2019|     G|\n",
      "|  s1097|Movie|            Mulan II|     Darrell Rooney|  Russia| November 12, 2019|     G|\n",
      "|  s1191|Movie|         Shipwrecked|          Nils Gaup|  Sweden| November 12, 2019|    PG|\n",
      "|   s966|Movie|   Into the Okavango|       Neil Gelinas|Botswana| November 12, 2019| TV-PG|\n",
      "+-------+-----+--------------------+-------------------+--------+------------------+------+\n",
      "only showing top 20 rows\n",
      "\n"
     ]
    },
    {
     "name": "stderr",
     "output_type": "stream",
     "text": [
      "[Stage 10:============================>                           (10 + 8) / 20]\r"
     ]
    },
    {
     "name": "stdout",
     "output_type": "stream",
     "text": [
      "+-------+-----+--------------------+--------------------+------------------+------+---------+\n",
      "|show_id| type|               title|            director|        date_added|rating|listed_in|\n",
      "+-------+-----+--------------------+--------------------+------------------+------+---------+\n",
      "|    s56|Movie|      McFarland, USA|           Niki Caro|  October 29, 2021|    PG|   Sports|\n",
      "|    s57|Movie|  Rookie of the Year|        Daniel Stern|  October 22, 2021|    PG|   Sports|\n",
      "|   s187|Movie|       The Sandlot 2|  David Mickey Evans|      July 2, 2021|    PG|   Sports|\n",
      "|   s344|Movie|              Safety|     Reginald Hudlin| December 11, 2020|    PG|   Sports|\n",
      "|   s411|Movie|       Morning Light|         Mark Monroe|September 18, 2020|    PG|   Sports|\n",
      "|   s485|Movie|       The Big Green|         Holly Sloan|      July 3, 2020|    PG|   Sports|\n",
      "|   s486|Movie|    The Mighty Ducks|       Stephen Herek|      July 3, 2020|    PG|   Sports|\n",
      "|   s608|Movie|The Sandlot: Head...|        William Dear|     March 6, 2020|    PG|   Sports|\n",
      "|   s665|Movie|             Hacksaw|     Larry Lansburgh|   January 1, 2020| TV-PG|   Sports|\n",
      "|   s691|Movie|          Glory Road|       James Gartner|  December 1, 2019|    PG|   Sports|\n",
      "|   s724|Movie|  Alley Cats Strike!|          Rod Daniel| November 12, 2019|  TV-G|   Sports|\n",
      "|   s763|Movie|           Breaking2|          Martin Roe| November 12, 2019| TV-PG|   Sports|\n",
      "|   s764|Movie|              Brink!|         Greg Beeman| November 12, 2019|  TV-G|   Sports|\n",
      "|   s797|Movie|             Cloud 9|           Paul Hoen| November 12, 2019|  TV-G|   Sports|\n",
      "|   s866|Movie|       Double Teamed|      Duwayne Dunham| November 12, 2019|  TV-G|   Sports|\n",
      "|   s875|Movie|Eddie's Million D...|           Paul Hoen| November 12, 2019|  TV-G|   Sports|\n",
      "|   s902|Movie|           Free Solo|Elizabeth Vasarhelyi| November 12, 2019| TV-PG|   Sports|\n",
      "|   s905|Movie|  Full-Court Miracle|      Stuart Gillard| November 12, 2019|  TV-G|   Sports|\n",
      "|   s916|Movie|           Go Figure|  Francine McDougall| November 12, 2019|  TV-G|   Sports|\n",
      "|   s917|Movie|    Going to the Mat|      Stuart Gillard| November 12, 2019|  TV-G|   Sports|\n",
      "+-------+-----+--------------------+--------------------+------------------+------+---------+\n",
      "only showing top 20 rows\n",
      "\n"
     ]
    },
    {
     "name": "stderr",
     "output_type": "stream",
     "text": [
      "                                                                                \r"
     ]
    }
   ],
   "source": [
    "from pyspark.sql import SparkSession\n",
    "from pyspark.sql.types import *\n",
    "import pyspark.sql.functions as f\n",
    "import datetime as dt\n",
    "\n",
    "spark = SparkSession.builder.getOrCreate()\n",
    "\n",
    "disney = spark.read.options(delimiter=',', quotes='\"\"').csv(\n",
    "    \"disney_plus_titles.csv\", header=True)\n",
    "\n",
    "disney = disney.dropna()\n",
    "disney = disney.drop(\"description\", \"cast\", \"release_year\", \"duration\")\n",
    "\n",
    "# disney = disney.withColumn('date_added', f.regexp_replace(\n",
    "#     \"date_added\", \",\", \"\")).drop(disney.date_added)\n",
    "# disney = disney.withColumn('date_added', f.split(\n",
    "#     \"date_added\", \" \")).drop(disney.date_added)\n",
    "\n",
    "# date = f.udf(lambda x : '{}-{}-{}'.format(\n",
    "#     x[2], dt.datetime.strptime(x[0],\"%B\").month ,x[1]\n",
    "# ))\n",
    "\n",
    "# disney = disney.withColumn('date_added', date(disney.date_added))\n",
    "\n",
    "test = f.udf(lambda x: \"{}\".format(x))\n",
    "\n",
    "disney = disney.withColumn('date_added', test(disney.date_added))\n",
    "\n",
    "disney = disney.withColumn('title', test(disney.title))\n",
    "\n",
    "disney = disney.withColumn('director', f.split('director', \",\")[0])\n",
    "\n",
    "list_country = []\n",
    "\n",
    "for i in disney[['country']].collect():\n",
    "    list_country.append(i['country'])\n",
    "\n",
    "list_country = set(\",\".join(list_country).split(\",\"))\n",
    "list_country = [*map(lambda x: x.strip(\" \"), list_country)]\n",
    "list_country = list(set(list_country))\n",
    "\n",
    "df_country = disney\n",
    "\n",
    "df_country = df_country.withColumn(\n",
    "    'country', f.regexp_replace('country', ', ', ',')).drop(df_country.country)\n",
    "\n",
    "df_country = df_country.withColumn(\n",
    "    'country', f.split('country', \",\")).drop(df_country.country)\n",
    "\n",
    "schemas = StructType(\n",
    "    [StructField(i, StringType(), False) for i in disney.columns]\n",
    ")\n",
    "df_disney_by_country = spark.createDataFrame(data=[], schema=schemas)\n",
    "\n",
    "for i in list_country:\n",
    "    if i == 'Phylicia Rashad':\n",
    "        result = df_country.filter(f.array_contains(\n",
    "            f.col(\"country\"), ' Phylicia Rashad'))\n",
    "\n",
    "        result = result.withColumn('country',\n",
    "                                   f.when(f.array_contains(\n",
    "                                       f.col(\"country\"), ' Phylicia Rashad'), i)).drop(result.country)\n",
    "        df_disney_by_country = df_disney_by_country.union(result)\n",
    "    else:\n",
    "        result = df_country.filter(f.array_contains(\n",
    "            f.col(\"country\"), i))\n",
    "\n",
    "        result = result.withColumn('country',\n",
    "                                   f.when(f.array_contains(\n",
    "                                       f.col(\"country\"), i), i)).drop(result.country)\n",
    "        df_disney_by_country = df_disney_by_country.union(result)\n",
    "df_disney_by_country = df_disney_by_country.drop(df_disney_by_country.listed_in)\n",
    "\n",
    "df_disney_by_country.coalesce(1).write.option(\"header\", True).csv(\"df_disney_by_country\")\n",
    "df_disney_by_country.show()\n",
    "\n",
    "\n",
    "list_category = []\n",
    "\n",
    "for i in disney[['listed_in']].collect():\n",
    "    list_category.append(i['listed_in'])\n",
    "\n",
    "list_category = \",\".join(list_category).split(\",\")\n",
    "list_category = [*map(lambda x: x.strip(\" \"), list_category)]\n",
    "list_category = list(set(list_category))\n",
    "\n",
    "df_category = disney\n",
    "\n",
    "df_category = df_category.withColumn(\n",
    "    'listed_in', f.regexp_replace('listed_in', ', ', ',')).drop(df_category.listed_in)\n",
    "\n",
    "df_category = df_category.withColumn(\n",
    "    \"listed_in\", f.split(\"listed_in\", \",\")).drop(df_category.listed_in)\n",
    "\n",
    "df_disney_by_category = spark.createDataFrame(data=[], schema=schemas)\n",
    "\n",
    "for i in list_category:\n",
    "    result = df_category.filter(f.array_contains(f.col('listed_in'), i))\n",
    "    result = result.withColumn('listed_in', f.when(\n",
    "        f.array_contains(f.col('listed_in'), i), i)).drop(result.listed_in)\n",
    "    df_disney_by_category = df_disney_by_category.union(result)\n",
    "\n",
    "df_disney_by_category = df_disney_by_category.drop(\n",
    "    df_disney_by_category.country)\n",
    "\n",
    "df_disney_by_category.coalesce(1).write.option(\"header\", True).csv(\"df_disney_by_category\")\n",
    "df_disney_by_category.show()\n"
   ]
  },
  {
   "cell_type": "code",
   "execution_count": 3,
   "metadata": {},
   "outputs": [
    {
     "name": "stderr",
     "output_type": "stream",
     "text": [
      "                                                                                \r"
     ]
    },
    {
     "data": {
      "text/plain": [
       "{Row(rating='G'),\n",
       " Row(rating='PG'),\n",
       " Row(rating='PG-13'),\n",
       " Row(rating='TV-14'),\n",
       " Row(rating='TV-G'),\n",
       " Row(rating='TV-PG'),\n",
       " Row(rating='TV-Y'),\n",
       " Row(rating='TV-Y7'),\n",
       " Row(rating='TV-Y7-FV')}"
      ]
     },
     "execution_count": 3,
     "metadata": {},
     "output_type": "execute_result"
    }
   ],
   "source": [
    "set(df_disney_by_category[['rating']].collect())\n"
   ]
  },
  {
   "cell_type": "code",
   "execution_count": 4,
   "metadata": {},
   "outputs": [
    {
     "data": {
      "text/plain": [
       "818"
      ]
     },
     "execution_count": 4,
     "metadata": {},
     "output_type": "execute_result"
    }
   ],
   "source": [
    "disney.count()"
   ]
  },
  {
   "cell_type": "code",
   "execution_count": null,
   "metadata": {},
   "outputs": [],
   "source": []
  }
 ],
 "metadata": {
  "kernelspec": {
   "display_name": "Python 3.10.7 64-bit",
   "language": "python",
   "name": "python3"
  },
  "language_info": {
   "codemirror_mode": {
    "name": "ipython",
    "version": 3
   },
   "file_extension": ".py",
   "mimetype": "text/x-python",
   "name": "python",
   "nbconvert_exporter": "python",
   "pygments_lexer": "ipython3",
   "version": "3.10.7"
  },
  "orig_nbformat": 4,
  "vscode": {
   "interpreter": {
    "hash": "b0fa6594d8f4cbf19f97940f81e996739fb7646882a419484c72d19e05852a7e"
   }
  }
 },
 "nbformat": 4,
 "nbformat_minor": 2
}
