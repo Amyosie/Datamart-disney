{
 "cells": [
  {
   "cell_type": "code",
   "execution_count": 4,
   "metadata": {},
   "outputs": [
    {
     "name": "stderr",
     "output_type": "stream",
     "text": [
      "/var/folders/gl/t6vjnh595svdc0wzk57cfyww0000gn/T/ipykernel_7647/4175009008.py:34: SettingWithCopyWarning: \n",
      "A value is trying to be set on a copy of a slice from a DataFrame.\n",
      "Try using .loc[row_indexer,col_indexer] = value instead\n",
      "\n",
      "See the caveats in the documentation: https://pandas.pydata.org/pandas-docs/stable/user_guide/indexing.html#returning-a-view-versus-a-copy\n",
      "  result_country.loc[:, \"country\"] = i\n",
      "/var/folders/gl/t6vjnh595svdc0wzk57cfyww0000gn/T/ipykernel_7647/4175009008.py:57: SettingWithCopyWarning: \n",
      "A value is trying to be set on a copy of a slice from a DataFrame.\n",
      "Try using .loc[row_indexer,col_indexer] = value instead\n",
      "\n",
      "See the caveats in the documentation: https://pandas.pydata.org/pandas-docs/stable/user_guide/indexing.html#returning-a-view-versus-a-copy\n",
      "  result_category['listed_in'] = i\n"
     ]
    }
   ],
   "source": [
    "import pandas as pd\n",
    "from thefuzz import process\n",
    "\n",
    "netflix = pd.read_csv(\"disney_plus_titles.csv\", index_col=0)\n",
    "netflix = netflix.dropna()\n",
    "\n",
    "df_country = netflix\n",
    "\n",
    "## Get all list country available by netflix\n",
    "\n",
    "list_country = list(set(\",\".join(list(set(df_country['country']))).split(\",\")))\n",
    "list_country = [*map(lambda x: x.strip(\" \"), list_country)]\n",
    "list_country = [*filter(lambda x: x != \"\", list_country)]\n",
    "list_country = list(set(list_country))\n",
    "\n",
    "df_country['country'] = df_country['country'].astype(\"str\")\n",
    "df_country['country'] = df_country['country'].apply(lambda x: x.split(\",\"))\n",
    "\n",
    "\n",
    "def matching(string, name):\n",
    "    result = process.extract(string, name, limit=len(name))\n",
    "    for i in result:\n",
    "        if i[1] >= 80:\n",
    "            return True\n",
    "        else:\n",
    "            return False\n",
    "\n",
    "\n",
    "df_netflix_by_country = pd.DataFrame()\n",
    "\n",
    "for i in list_country:\n",
    "    filter_country = df_country['country'].apply(lambda x: matching(i, x))\n",
    "    result_country = df_country[filter_country]\n",
    "    result_country.loc[:, \"country\"] = i\n",
    "    df_netflix_by_country = pd.concat(\n",
    "        [df_netflix_by_country, result_country], ignore_index=True)\n",
    "\n",
    "df_category = df_netflix_by_country\n",
    "\n",
    "# get all list category available by netflix\n",
    "\n",
    "list_category = \",\".join(list(set(netflix['listed_in']))).split(',')\n",
    "list_category = [*map(lambda x: x.strip(\" \"), list_category)]\n",
    "list_category = list(set(list_category))\n",
    "\n",
    "df_netflix_by_country['listed_in'] = df_netflix_by_country['listed_in'].astype(\n",
    "    'str')\n",
    "df_netflix_by_country['listed_in'] = df_netflix_by_country['listed_in'].apply(\n",
    "    lambda x: x.split(','))\n",
    "df_netflix_by_country['listed_in']\n",
    "\n",
    "final_datamart_disney = pd.DataFrame()\n",
    "for i in list_category:\n",
    "    filter_category = df_category['listed_in'].apply(\n",
    "        lambda x: matching(i, x))\n",
    "    result_category = df_netflix_by_country[filter_category]\n",
    "    result_category['listed_in'] = i\n",
    "    final_datamart_disney = pd.concat(\n",
    "        [final_datamart_disney, result_category], ignore_index=True)\n",
    "\n",
    "final_datamart_disney.to_csv('final_datamart_disney.csv')\n"
   ]
  },
  {
   "cell_type": "code",
   "execution_count": null,
   "metadata": {},
   "outputs": [],
   "source": []
  }
 ],
 "metadata": {
  "kernelspec": {
   "display_name": "Python 3.10.7 64-bit",
   "language": "python",
   "name": "python3"
  },
  "language_info": {
   "codemirror_mode": {
    "name": "ipython",
    "version": 3
   },
   "file_extension": ".py",
   "mimetype": "text/x-python",
   "name": "python",
   "nbconvert_exporter": "python",
   "pygments_lexer": "ipython3",
   "version": "3.10.7"
  },
  "orig_nbformat": 4,
  "vscode": {
   "interpreter": {
    "hash": "b0fa6594d8f4cbf19f97940f81e996739fb7646882a419484c72d19e05852a7e"
   }
  }
 },
 "nbformat": 4,
 "nbformat_minor": 2
}
